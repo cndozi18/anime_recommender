{
 "cells": [
  {
   "cell_type": "code",
   "execution_count": 5,
   "id": "00d63b62-cdb7-46e7-8c97-11db358afbcf",
   "metadata": {},
   "outputs": [
    {
     "name": "stdout",
     "output_type": "stream",
     "text": [
      "Shape before dropping nulls: (11123, 12)\n",
      "Shape after dropping nulls: (11123, 12)\n",
      "\n",
      "Null counts after dropping:\n"
     ]
    },
    {
     "data": {
      "text/plain": [
       "bookID                0\n",
       "title                 0\n",
       "authors               0\n",
       "average_rating        0\n",
       "isbn                  0\n",
       "isbn13                0\n",
       "language_code         0\n",
       "  num_pages           0\n",
       "ratings_count         0\n",
       "text_reviews_count    0\n",
       "publication_date      0\n",
       "publisher             0\n",
       "dtype: int64"
      ]
     },
     "execution_count": 5,
     "metadata": {},
     "output_type": "execute_result"
    }
   ],
   "source": [
    "import pandas as pd\n",
    "\n",
    "df = pd.read_csv('../data/books.csv', on_bad_lines='skip')\n",
    "\n",
    "#df.head()\n",
    "#df.info()\n",
    "#df.isnull().sum()\n",
    "\n",
    "print(f\"Shape before dropping nulls: {df.shape}\")\n",
    "\n",
    "# df.dropna() removes rows with any missing values.\n",
    "# inplace=True modifies the DataFrame directly without needing to reassign it.\n",
    "df.dropna(inplace=True)\n",
    "\n",
    "print(f\"Shape after dropping nulls: {df.shape}\")\n",
    "\n",
    "# Let's verify that there are no more nulls\n",
    "print(\"\\nNull counts after dropping:\")\n",
    "df.isnull().sum()"
   ]
  },
  {
   "cell_type": "code",
   "execution_count": null,
   "id": "40cbcbc5-9fc4-4a79-aa95-626e20fc26fd",
   "metadata": {},
   "outputs": [],
   "source": []
  }
 ],
 "metadata": {
  "kernelspec": {
   "display_name": "Python 3 (ipykernel)",
   "language": "python",
   "name": "python3"
  },
  "language_info": {
   "codemirror_mode": {
    "name": "ipython",
    "version": 3
   },
   "file_extension": ".py",
   "mimetype": "text/x-python",
   "name": "python",
   "nbconvert_exporter": "python",
   "pygments_lexer": "ipython3",
   "version": "3.13.7"
  }
 },
 "nbformat": 4,
 "nbformat_minor": 5
}
